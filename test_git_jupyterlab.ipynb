{
 "cells": [
  {
   "cell_type": "code",
   "execution_count": 2,
   "id": "930ffb46",
   "metadata": {},
   "outputs": [
    {
     "name": "stdout",
     "output_type": "stream",
     "text": [
      "Je suis sur jupyter lab\n"
     ]
    }
   ],
   "source": [
    "print(\"Je suis sur jupyter lab\")"
   ]
  },
  {
   "cell_type": "code",
   "execution_count": 3,
   "id": "fbef4fb3",
   "metadata": {},
   "outputs": [
    {
     "name": "stdout",
     "output_type": "stream",
     "text": [
      "modif greg\n"
     ]
    }
   ],
   "source": [
    "print(\"modif greg\")"
   ]
  },
  {
   "cell_type": "code",
   "execution_count": null,
   "id": "69fac11a",
   "metadata": {},
   "outputs": [],
   "source": []
  }
 ],
 "metadata": {
  "kernelspec": {
   "display_name": "conda_python3",
   "language": "python",
   "name": "conda_python3"
  },
  "language_info": {
   "codemirror_mode": {
    "name": "ipython",
    "version": 3
   },
   "file_extension": ".py",
   "mimetype": "text/x-python",
   "name": "python",
   "nbconvert_exporter": "python",
   "pygments_lexer": "ipython3",
   "version": "3.6.13"
  }
 },
 "nbformat": 4,
 "nbformat_minor": 5
}
