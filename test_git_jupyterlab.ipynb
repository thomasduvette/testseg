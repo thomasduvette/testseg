{
 "cells": [
  {
   "cell_type": "code",
   "execution_count": 1,
   "id": "b237786f-5186-484b-93ab-56c1994003ff",
   "metadata": {},
   "outputs": [
    {
     "name": "stdout",
     "output_type": "stream",
     "text": [
      "Je suis sur jupyter lab\n"
     ]
    }
   ],
   "source": [
    "print(\"Je suis sur jupyter lab\")"
   ]
  },
  {
   "cell_type": "code",
   "execution_count": null,
   "id": "cd52f6d0-1e46-4cc6-baab-829d2de5bc24",
   "metadata": {},
   "outputs": [],
   "source": []
  }
 ],
 "metadata": {
  "kernelspec": {
   "display_name": "Python 3",
   "language": "python",
   "name": "python3"
  },
  "language_info": {
   "codemirror_mode": {
    "name": "ipython",
    "version": 3
   },
   "file_extension": ".py",
   "mimetype": "text/x-python",
   "name": "python",
   "nbconvert_exporter": "python",
   "pygments_lexer": "ipython3",
   "version": "3.8.8"
  }
 },
 "nbformat": 4,
 "nbformat_minor": 5
}
